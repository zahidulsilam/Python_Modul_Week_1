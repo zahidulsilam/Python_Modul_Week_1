#The list:
students=[{'name':'Ahmet','sname':'yilmaz','mid':85,'final':90,'oral':75,'GPA':0},
          {'name':'Mehmit','sname':'Dimer','mid':92,'final':88,'oral':76,'GPA':0},
          {'name':'Ayse','sname':'Kaya','mid':78,'final':89,'oral':95,'GPA':0},
          {'name':'Zynep','sname':'Celik','mid':65,'final':70,'oral':80,'GPA':0},
          {'name':'Ali','sname':'Kara','mid':50,'final':60,'oral':55,'GPA':0},
          {'name':'Fatma','sname':'Yildiz','mid':88,'final':85,'oral':90,'GPA':0},
          {'name':'Murat','sname':'Aydin','mid':72,'final':68,'oral':74,'GPA':0},
          {'name':'Elif','sname':'Aksoy','mid':95,'final':90,'oral':88,'GPA':0},
          {'name':'Hakan','sname':'Ozturk','mid':45,'final':50,'oral':55,'GPA':0},
          {'name':'Canan','sname':'Tas','mid':80,'final':75,'oral':82,'GPA':0}]
#The answers:
#The first requirement(Calculate each student's GPA and add it to the dictionary):
for i in range(len(students)):
  GPA=(students[i]['mid']+students[i]['final']+students[i]['oral'])/3
  students[i]['GPA']=GPA
  print(students[i])
##The second requirement(Find the student with the highest GPA and print it on the screen):
maxGPA=max(students,key=lambda x:x['GPA'])
print(maxGPA)
print(maxGPA['name'],maxGPA['sname'],maxGPA['GPA'],maxGPA['mid'],maxGPA['final'],maxGPA['oral'])
student_data = []
for student in students:
  student_data.append((student['name'], student['sname']))

student_data
#The Third and fourth requirements(Sort students by name and surname alphabetically)and(Separate each student's name from their surname and store them in a separate tuple and add them to a list):
sorted_students = sorted(students, key=lambda student: (student['name'], student['sname']))

#The fifth requirement(Keep students with a GPA below 70 in a cluster):
for student in sorted_students:
  print(f"{student['name']},{student['sname']}")
low_gpa_students = set()
for student in students:
  if student['GPA'] < 70:
    low_gpa_students.add(student['name'])
low_gpa_students
